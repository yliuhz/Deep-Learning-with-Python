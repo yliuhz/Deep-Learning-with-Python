{
 "cells": [
  {
   "cell_type": "code",
   "execution_count": 33,
   "id": "composed-action",
   "metadata": {},
   "outputs": [],
   "source": [
    "from keras.datasets import imdb"
   ]
  },
  {
   "cell_type": "code",
   "execution_count": 34,
   "id": "vulnerable-atlantic",
   "metadata": {},
   "outputs": [],
   "source": [
    "(train_data, train_label), (test_data, test_label) = imdb.load_data(num_words=10000)"
   ]
  },
  {
   "cell_type": "code",
   "execution_count": 35,
   "id": "atmospheric-winner",
   "metadata": {},
   "outputs": [
    {
     "data": {
      "text/plain": [
       "1"
      ]
     },
     "execution_count": 35,
     "metadata": {},
     "output_type": "execute_result"
    }
   ],
   "source": [
    "train_data.ndim"
   ]
  },
  {
   "cell_type": "code",
   "execution_count": 36,
   "id": "continent-sense",
   "metadata": {
    "scrolled": true
   },
   "outputs": [
    {
     "data": {
      "text/plain": [
       "(25000,)"
      ]
     },
     "execution_count": 36,
     "metadata": {},
     "output_type": "execute_result"
    }
   ],
   "source": [
    "train_data.shape"
   ]
  },
  {
   "cell_type": "code",
   "execution_count": 37,
   "id": "expired-patient",
   "metadata": {},
   "outputs": [],
   "source": [
    "import numpy as np\n",
    "def vectorize_sequences(sequences, dimension=10000):\n",
    "    results = np.zeros((len(sequences), dimension))\n",
    "    for i, sequence in enumerate(sequences):\n",
    "        results[i, sequence] = 1\n",
    "    return results"
   ]
  },
  {
   "cell_type": "code",
   "execution_count": 38,
   "id": "adolescent-bunny",
   "metadata": {},
   "outputs": [],
   "source": [
    "one_hot_train_data = vectorize_sequences(train_data)"
   ]
  },
  {
   "cell_type": "code",
   "execution_count": 39,
   "id": "numerous-auction",
   "metadata": {},
   "outputs": [
    {
     "data": {
      "text/plain": [
       "(25000, 10000)"
      ]
     },
     "execution_count": 39,
     "metadata": {},
     "output_type": "execute_result"
    }
   ],
   "source": [
    "one_hot_train_data.shape"
   ]
  },
  {
   "cell_type": "code",
   "execution_count": 40,
   "id": "ranking-checklist",
   "metadata": {},
   "outputs": [],
   "source": [
    "one_hot_test_data = vectorize_sequences(test_data)"
   ]
  },
  {
   "cell_type": "code",
   "execution_count": 41,
   "id": "rapid-hypothesis",
   "metadata": {},
   "outputs": [],
   "source": [
    "train_label = np.asarray(train_label).astype('float32')"
   ]
  },
  {
   "cell_type": "code",
   "execution_count": 42,
   "id": "stone-washington",
   "metadata": {},
   "outputs": [],
   "source": [
    "test_label = np.asarray(test_label).astype('float32')"
   ]
  },
  {
   "cell_type": "code",
   "execution_count": 43,
   "id": "sublime-monitor",
   "metadata": {},
   "outputs": [],
   "source": [
    "from keras import models\n",
    "from keras import layers"
   ]
  },
  {
   "cell_type": "code",
   "execution_count": 44,
   "id": "automatic-thing",
   "metadata": {},
   "outputs": [],
   "source": [
    "from keras import regularizers"
   ]
  },
  {
   "cell_type": "code",
   "execution_count": 45,
   "id": "promising-correlation",
   "metadata": {},
   "outputs": [],
   "source": [
    "model = models.Sequential()\n",
    "model.add(layers.Dense(16, kernel_regularizer=regularizers.l2(0.001), \n",
    "                       activation='relu', input_shape=(10000,)))\n",
    "model.add(layers.Dense(16, kernel_regularizer=regularizers.l2(0.001), \n",
    "                      activation = 'relu'))\n",
    "model.add(layers.Dense(1, activation = 'sigmoid'))"
   ]
  },
  {
   "cell_type": "code",
   "execution_count": 50,
   "id": "underlying-actress",
   "metadata": {},
   "outputs": [],
   "source": [
    "x_val = one_hot_train_data[:10000]\n",
    "y_val = train_label[:10000]"
   ]
  },
  {
   "cell_type": "code",
   "execution_count": 51,
   "id": "turkish-queens",
   "metadata": {},
   "outputs": [],
   "source": [
    "partial_train_data = one_hot_train_data[10000:]\n",
    "partial_train_label = train_label[10000:]"
   ]
  },
  {
   "cell_type": "code",
   "execution_count": 52,
   "id": "curious-medicaid",
   "metadata": {},
   "outputs": [],
   "source": [
    "model.compile(loss = 'binary_crossentropy', \n",
    "             optimizer = 'rmsprop', \n",
    "             metrics = ['accuracy'])"
   ]
  },
  {
   "cell_type": "code",
   "execution_count": 54,
   "id": "searching-prerequisite",
   "metadata": {},
   "outputs": [
    {
     "name": "stdout",
     "output_type": "stream",
     "text": [
      "Train on 15000 samples, validate on 10000 samples\n",
      "Epoch 1/20\n",
      "15000/15000 [==============================] - 2s 110us/step - loss: 0.1232 - accuracy: 0.9801 - val_loss: 0.4657 - val_accuracy: 0.8656\n",
      "Epoch 2/20\n",
      "15000/15000 [==============================] - 2s 111us/step - loss: 0.1259 - accuracy: 0.9782 - val_loss: 0.4635 - val_accuracy: 0.8663\n",
      "Epoch 3/20\n",
      "15000/15000 [==============================] - 2s 110us/step - loss: 0.1239 - accuracy: 0.9795 - val_loss: 0.4635 - val_accuracy: 0.8685\n",
      "Epoch 4/20\n",
      "15000/15000 [==============================] - 2s 106us/step - loss: 0.1205 - accuracy: 0.9814 - val_loss: 0.4658 - val_accuracy: 0.8670\n",
      "Epoch 5/20\n",
      "15000/15000 [==============================] - 2s 106us/step - loss: 0.1167 - accuracy: 0.9825 - val_loss: 0.4727 - val_accuracy: 0.8664\n",
      "Epoch 6/20\n",
      "15000/15000 [==============================] - 2s 108us/step - loss: 0.1147 - accuracy: 0.9835 - val_loss: 0.4790 - val_accuracy: 0.8655\n",
      "Epoch 7/20\n",
      "15000/15000 [==============================] - 2s 103us/step - loss: 0.1186 - accuracy: 0.9809 - val_loss: 0.5098 - val_accuracy: 0.8594\n",
      "Epoch 8/20\n",
      "15000/15000 [==============================] - 2s 102us/step - loss: 0.1140 - accuracy: 0.9825 - val_loss: 0.6849 - val_accuracy: 0.8284\n",
      "Epoch 9/20\n",
      "15000/15000 [==============================] - 2s 105us/step - loss: 0.1139 - accuracy: 0.9812 - val_loss: 0.4892 - val_accuracy: 0.8656\n",
      "Epoch 10/20\n",
      "15000/15000 [==============================] - 2s 111us/step - loss: 0.1066 - accuracy: 0.9862 - val_loss: 0.5673 - val_accuracy: 0.8529\n",
      "Epoch 11/20\n",
      "15000/15000 [==============================] - 2s 118us/step - loss: 0.1146 - accuracy: 0.9806 - val_loss: 0.5483 - val_accuracy: 0.8577\n",
      "Epoch 12/20\n",
      "15000/15000 [==============================] - 2s 111us/step - loss: 0.1088 - accuracy: 0.9838 - val_loss: 0.5067 - val_accuracy: 0.8637\n",
      "Epoch 13/20\n",
      "15000/15000 [==============================] - 2s 119us/step - loss: 0.1064 - accuracy: 0.9865 - val_loss: 0.6493 - val_accuracy: 0.8395\n",
      "Epoch 14/20\n",
      "15000/15000 [==============================] - 2s 112us/step - loss: 0.1136 - accuracy: 0.9817 - val_loss: 0.5212 - val_accuracy: 0.8641\n",
      "Epoch 15/20\n",
      "15000/15000 [==============================] - 2s 111us/step - loss: 0.1100 - accuracy: 0.9855 - val_loss: 0.5187 - val_accuracy: 0.8637\n",
      "Epoch 16/20\n",
      "15000/15000 [==============================] - 2s 111us/step - loss: 0.1077 - accuracy: 0.9851 - val_loss: 0.5205 - val_accuracy: 0.8642\n",
      "Epoch 17/20\n",
      "15000/15000 [==============================] - 2s 110us/step - loss: 0.1063 - accuracy: 0.9859 - val_loss: 0.5279 - val_accuracy: 0.8626\n",
      "Epoch 18/20\n",
      "15000/15000 [==============================] - 2s 110us/step - loss: 0.0980 - accuracy: 0.9887 - val_loss: 0.7439 - val_accuracy: 0.8282\n",
      "Epoch 19/20\n",
      "15000/15000 [==============================] - 2s 110us/step - loss: 0.1044 - accuracy: 0.9845 - val_loss: 0.5438 - val_accuracy: 0.8608\n",
      "Epoch 20/20\n",
      "15000/15000 [==============================] - 2s 132us/step - loss: 0.1020 - accuracy: 0.9865 - val_loss: 0.5615 - val_accuracy: 0.8577\n"
     ]
    }
   ],
   "source": [
    "history = model.fit(partial_train_data, partial_train_label, epochs=20, \n",
    "         batch_size=512, validation_data=(x_val, y_val))"
   ]
  },
  {
   "cell_type": "code",
   "execution_count": 62,
   "id": "surrounded-developer",
   "metadata": {},
   "outputs": [],
   "source": [
    "all_val_mae = history.history['val_loss']"
   ]
  },
  {
   "cell_type": "code",
   "execution_count": 63,
   "id": "binary-shoulder",
   "metadata": {},
   "outputs": [
    {
     "data": {
      "text/plain": [
       "list"
      ]
     },
     "execution_count": 63,
     "metadata": {},
     "output_type": "execute_result"
    }
   ],
   "source": [
    "type(all_val_mae)"
   ]
  },
  {
   "cell_type": "code",
   "execution_count": 64,
   "id": "exact-court",
   "metadata": {},
   "outputs": [
    {
     "data": {
      "text/plain": [
       "20"
      ]
     },
     "execution_count": 64,
     "metadata": {},
     "output_type": "execute_result"
    }
   ],
   "source": [
    "len(all_val_mae)"
   ]
  },
  {
   "cell_type": "code",
   "execution_count": 65,
   "id": "running-halloween",
   "metadata": {},
   "outputs": [
    {
     "data": {
      "text/plain": [
       "Text(0, 0.5, 'Validation loss')"
      ]
     },
     "execution_count": 65,
     "metadata": {},
     "output_type": "execute_result"
    },
    {
     "data": {
      "image/png": "[encoded data removed]",
      "text/plain": [
       "<Figure size 432x288 with 1 Axes>"
      ]
     },
     "metadata": {
      "needs_background": "light"
     },
     "output_type": "display_data"
    }
   ],
   "source": [
    "import matplotlib.pyplot as plt\n",
    "plt.plot(range(1, len(all_val_mae)+1), all_val_mae, 'bo')\n",
    "plt.xlabel('Epochs')\n",
    "plt.ylabel('Validation loss')"
   ]
  },
  {
   "cell_type": "code",
   "execution_count": 66,
   "id": "objective-gross",
   "metadata": {},
   "outputs": [],
   "source": [
    "b_model = models.Sequential()\n",
    "b_model.add(layers.Dense(16, activation='relu', input_shape=(10000,)))\n",
    "b_model.add(layers.Dense(16, activation='relu'))\n",
    "b_model.add(layers.Dense(1, activation='sigmoid'))\n",
    "b_model.compile(loss = 'binary_crossentropy', \n",
    "               optimizer = 'rmsprop', \n",
    "               metrics = ['accuracy'])"
   ]
  },
  {
   "cell_type": "code",
   "execution_count": 67,
   "id": "limiting-delivery",
   "metadata": {},
   "outputs": [
    {
     "name": "stdout",
     "output_type": "stream",
     "text": [
      "Train on 15000 samples, validate on 10000 samples\n",
      "Epoch 1/20\n",
      "15000/15000 [==============================] - 5s 308us/step - loss: 0.5445 - accuracy: 0.7815 - val_loss: 0.4204 - val_accuracy: 0.8738\n",
      "Epoch 2/20\n",
      "15000/15000 [==============================] - 2s 128us/step - loss: 0.3380 - accuracy: 0.8986 - val_loss: 0.3340 - val_accuracy: 0.8742\n",
      "Epoch 3/20\n",
      "15000/15000 [==============================] - 2s 125us/step - loss: 0.2459 - accuracy: 0.9238 - val_loss: 0.2843 - val_accuracy: 0.8911\n",
      "Epoch 4/20\n",
      "15000/15000 [==============================] - 2s 108us/step - loss: 0.1927 - accuracy: 0.9383 - val_loss: 0.2885 - val_accuracy: 0.8853\n",
      "Epoch 5/20\n",
      "15000/15000 [==============================] - 2s 102us/step - loss: 0.1560 - accuracy: 0.9518 - val_loss: 0.2734 - val_accuracy: 0.8901\n",
      "Epoch 6/20\n",
      "15000/15000 [==============================] - 1s 99us/step - loss: 0.1295 - accuracy: 0.9617 - val_loss: 0.2829 - val_accuracy: 0.8881\n",
      "Epoch 7/20\n",
      "15000/15000 [==============================] - 1s 100us/step - loss: 0.1078 - accuracy: 0.9673 - val_loss: 0.2969 - val_accuracy: 0.8854\n",
      "Epoch 8/20\n",
      "15000/15000 [==============================] - 2s 101us/step - loss: 0.0863 - accuracy: 0.9765 - val_loss: 0.3270 - val_accuracy: 0.8803\n",
      "Epoch 9/20\n",
      "15000/15000 [==============================] - 2s 108us/step - loss: 0.0776 - accuracy: 0.9780 - val_loss: 0.3391 - val_accuracy: 0.8811\n",
      "Epoch 10/20\n",
      "15000/15000 [==============================] - 2s 110us/step - loss: 0.0605 - accuracy: 0.9845 - val_loss: 0.3564 - val_accuracy: 0.8798\n",
      "Epoch 11/20\n",
      "15000/15000 [==============================] - 1s 99us/step - loss: 0.0537 - accuracy: 0.9858 - val_loss: 0.3808 - val_accuracy: 0.8783\n",
      "Epoch 12/20\n",
      "15000/15000 [==============================] - 2s 104us/step - loss: 0.0409 - accuracy: 0.9914 - val_loss: 0.4090 - val_accuracy: 0.8765\n",
      "Epoch 13/20\n",
      "15000/15000 [==============================] - 2s 123us/step - loss: 0.0332 - accuracy: 0.9935 - val_loss: 0.4337 - val_accuracy: 0.8741\n",
      "Epoch 14/20\n",
      "15000/15000 [==============================] - 2s 109us/step - loss: 0.0262 - accuracy: 0.9954 - val_loss: 0.4673 - val_accuracy: 0.8753\n",
      "Epoch 15/20\n",
      "15000/15000 [==============================] - 2s 107us/step - loss: 0.0205 - accuracy: 0.9969 - val_loss: 0.5195 - val_accuracy: 0.8689\n",
      "Epoch 16/20\n",
      "15000/15000 [==============================] - 2s 101us/step - loss: 0.0161 - accuracy: 0.9976 - val_loss: 0.5378 - val_accuracy: 0.8711\n",
      "Epoch 17/20\n",
      "15000/15000 [==============================] - 2s 102us/step - loss: 0.0132 - accuracy: 0.9981 - val_loss: 0.5838 - val_accuracy: 0.8681\n",
      "Epoch 18/20\n",
      "15000/15000 [==============================] - 2s 100us/step - loss: 0.0079 - accuracy: 0.9997 - val_loss: 0.6616 - val_accuracy: 0.8621\n",
      "Epoch 19/20\n",
      "15000/15000 [==============================] - 1s 100us/step - loss: 0.0090 - accuracy: 0.9985 - val_loss: 0.6467 - val_accuracy: 0.8681\n",
      "Epoch 20/20\n",
      "15000/15000 [==============================] - 2s 101us/step - loss: 0.0064 - accuracy: 0.9991 - val_loss: 0.6882 - val_accuracy: 0.8665\n"
     ]
    }
   ],
   "source": [
    "b_history = b_model.fit(partial_train_data, partial_train_label, \n",
    "           epochs = 20, batch_size = 512, validation_data = (x_val, y_val))"
   ]
  },
  {
   "cell_type": "code",
   "execution_count": 69,
   "id": "seeing-fitness",
   "metadata": {},
   "outputs": [],
   "source": [
    "b_all_val_loss = b_history.history['val_loss']"
   ]
  },
  {
   "cell_type": "code",
   "execution_count": 70,
   "id": "right-return",
   "metadata": {},
   "outputs": [
    {
     "data": {
      "text/plain": [
       "Text(0, 0.5, 'Validation loss')"
      ]
     },
     "execution_count": 70,
     "metadata": {},
     "output_type": "execute_result"
    },
    {
     "data": {
      "image/png": "[encoded data removed]",
      "text/plain": [
       "<Figure size 432x288 with 1 Axes>"
      ]
     },
     "metadata": {
      "needs_background": "light"
     },
     "output_type": "display_data"
    }
   ],
   "source": [
    "import matplotlib.pyplot as plt\n",
    "plt.plot(range(1, len(all_val_mae)+1), all_val_mae, 'bo')\n",
    "plt.plot(range(1, len(all_val_mae)+1), b_all_val_loss, 'b+')\n",
    "plt.xlabel('Epochs')\n",
    "plt.ylabel('Validation loss')"
   ]
  },
  {
   "cell_type": "code",
   "execution_count": null,
   "id": "reflected-television",
   "metadata": {},
   "outputs": [],
   "source": []
  }
 ],
 "metadata": {
  "kernelspec": {
   "display_name": "Python [conda env:py36] *",
   "language": "python",
   "name": "conda-env-py36-py"
  },
  "language_info": {
   "codemirror_mode": {
    "name": "ipython",
    "version": 3
   },
   "file_extension": ".py",
   "mimetype": "text/x-python",
   "name": "python",
   "nbconvert_exporter": "python",
   "pygments_lexer": "ipython3",
   "version": "3.6.13"
  }
 },
 "nbformat": 4,
 "nbformat_minor": 5
}
